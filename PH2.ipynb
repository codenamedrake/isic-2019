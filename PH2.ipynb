{
 "cells": [
  {
   "cell_type": "markdown",
   "metadata": {},
   "source": [
    "## Convert 80 Atypical Nevus Images from BMP to PNG"
   ]
  },
  {
   "cell_type": "code",
   "execution_count": null,
   "metadata": {},
   "outputs": [],
   "source": [
    "import pandas as pd\n",
    "\n",
    "df = pd.read_csv('C:\\ISIC_2019\\Out-of-Distribution\\PH2Dataset\\PH2_dataset.txt',\n",
    "                 sep='|', nrows=200)\n",
    "df = df.dropna(how='all', axis=1)\n",
    "df = df.rename(columns=lambda x: x.strip())\n",
    "df['Name'] = df['Name'].str.strip()\n",
    "df.head()"
   ]
  },
  {
   "cell_type": "code",
   "execution_count": null,
   "metadata": {},
   "outputs": [],
   "source": [
    "# df.keys()\n",
    "df = df[df['Clinical Diagnosis'] == 1] # Atypical Nevus is 1\n",
    "print(df.shape)\n",
    "df.head()"
   ]
  },
  {
   "cell_type": "code",
   "execution_count": null,
   "metadata": {},
   "outputs": [],
   "source": [
    "import os\n",
    "from PIL import Image\n",
    "\n",
    "image_folder = 'C:\\ISIC_2019\\Out-of-Distribution\\PH2Dataset\\PH2 Dataset images'\n",
    "dest_folder = 'C:\\ISIC_2019\\PH2_Out_Distribution'\n",
    "os.makedirs(dest_folder, exist_ok=True)\n",
    "\n",
    "for name in df['Name']:\n",
    "    image_path_src = os.path.join(image_folder, name, \"{}_Dermoscopic_Image\".format(name), \"{}.bmp\".format(name))\n",
    "    image_path_dest = os.path.join(dest_folder, \"{}.png\".format(name))\n",
    "    # Convert BMP to PNG\n",
    "    Image.open(image_path_src).save(image_path_dest)\n",
    "    print(\"Save \\\"{}\\\"\".format(image_path_dest))"
   ]
  }
 ],
 "metadata": {
  "kernelspec": {
   "display_name": "Python 3",
   "language": "python",
   "name": "python3"
  },
  "language_info": {
   "codemirror_mode": {
    "name": "ipython",
    "version": 3
   },
   "file_extension": ".py",
   "mimetype": "text/x-python",
   "name": "python",
   "nbconvert_exporter": "python",
   "pygments_lexer": "ipython3",
   "version": "3.7.4"
  }
 },
 "nbformat": 4,
 "nbformat_minor": 2
}

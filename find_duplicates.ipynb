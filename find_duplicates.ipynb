{
 "cells": [
  {
   "cell_type": "code",
   "execution_count": null,
   "metadata": {},
   "outputs": [],
   "source": [
    "# Original sample code is provided by Shlomo Kashani\n",
    "# https://forum.isic-archive.com/t/a-list-of-duplicate-images-in-the-training-set/1141\n",
    "\n",
    "import pandas as pd \n",
    "import os\n",
    "import numpy as np\n",
    "import pandas as pd\n",
    "import glob\n",
    "import imagehash\n",
    "from PIL import Image\n",
    "from joblib import Parallel, delayed\n",
    "from pathlib import Path\n",
    "import matplotlib.pyplot as plt\n",
    "\n",
    "%matplotlib inline\n",
    "\n",
    "\n",
    "def create_dataframe_from_folders(image_folders):\n",
    "    image_paths = []\n",
    "    for image_folder in image_folders:\n",
    "        image_paths += sorted(Path(image_folder).glob('**/*.jpg'))\n",
    "    print(len(image_paths), 'images')\n",
    "    df = pd.DataFrame(image_paths, columns=['path'])\n",
    "    df['image'] = df.apply(lambda row : Path(row['path']).stem, axis=1)\n",
    "    return df\n",
    "\n",
    "def get_image_metadata(file_path):\n",
    "    \"\"\" Generate images metadata \"\"\"\n",
    "    with Image.open(file_path) as img:\n",
    "        img_hash = imagehash.phash(img)\n",
    "        return img.size, img.mode, img_hash, file_path\n",
    "    \n",
    "def get_image_metadata_parallel(df):\n",
    "    img_meta_list = Parallel(n_jobs=os.cpu_count(), verbose=1)(\n",
    "    (delayed(get_image_metadata)(row['path']) for _, row in df.iterrows()))\n",
    "    img_meta_df = pd.DataFrame(np.array(img_meta_list), columns = ['Size', 'Mode', 'Hash', 'path'])\n",
    "    df = df.merge(img_meta_df, on='path', how='left')\n",
    "    return df\n",
    "\n",
    "def plot_similar_pairs(df0, df1, similar_pair_indices):\n",
    "    for i in range(0, len(similar_pair_indices[0])):\n",
    "        idx0 = similar_pair_indices[0][i]\n",
    "        idx1 = similar_pair_indices[1][i]\n",
    "        print(\"{} v.s. {}\".format(df0.iloc[idx0]['image'], df1.iloc[idx1]['image']))\n",
    "\n",
    "        fig, (ax0, ax1) = plt.subplots(figsize=(14, 5), ncols=2)\n",
    "        ax0.set_title(df0.iloc[idx0]['image'])\n",
    "        ax0.imshow(plt.imread(df0.iloc[idx0]['path']))\n",
    "\n",
    "        ax1.set_title(df1.iloc[idx1]['image'])\n",
    "        ax1.imshow(plt.imread(df1.iloc[idx1]['path']))\n",
    "        plt.show()"
   ]
  },
  {
   "cell_type": "markdown",
   "metadata": {},
   "source": [
    "## Hash Difference Matrix"
   ]
  },
  {
   "cell_type": "code",
   "execution_count": null,
   "metadata": {
    "scrolled": false
   },
   "outputs": [],
   "source": [
    "image_folders = ['C:/ISIC_2019/Out_Distribution']\n",
    "\n",
    "df = create_dataframe_from_folders(image_folders)\n",
    "df = get_image_metadata_parallel(df)\n",
    "df.head()"
   ]
  },
  {
   "cell_type": "code",
   "execution_count": null,
   "metadata": {
    "scrolled": false
   },
   "outputs": [],
   "source": [
    "# Pariwise hash difference matrix\n",
    "pair_diff = abs(df['Hash'].to_numpy() - df['Hash'].to_numpy()[:, None])\n",
    "print('Unique difference values:', np.unique(pair_diff))\n",
    "pair_diff_triu = np.triu(pair_diff)\n",
    "\n",
    "# Get the index of elements with value 2\n",
    "similar_pair_indices = np.where((pair_diff_triu > 0) & (pair_diff_triu <= 8))\n",
    "print(len(similar_pair_indices[0]), 'similar image pairs:')"
   ]
  },
  {
   "cell_type": "code",
   "execution_count": null,
   "metadata": {},
   "outputs": [],
   "source": [
    "plot_similar_pairs(df, df, similar_pair_indices)"
   ]
  },
  {
   "cell_type": "markdown",
   "metadata": {},
   "source": [
    "## N x M Comparison"
   ]
  },
  {
   "cell_type": "code",
   "execution_count": null,
   "metadata": {},
   "outputs": [],
   "source": [
    "# image_folders = \n",
    "\n",
    "df0 = create_dataframe_from_folders(['C:/ISIC_2019/Out_Distribution'])\n",
    "df0 = get_image_metadata_parallel(df0)\n",
    "\n",
    "df1 = create_dataframe_from_folders(['C:/ISIC_2019/ISIC_2019_Training_Input'])\n",
    "df1 = get_image_metadata_parallel(df1)\n",
    "\n",
    "df0_indices = []\n",
    "df1_indices = []\n",
    "\n",
    "for df0_idx, value0 in df0['Hash'].items():\n",
    "    for df1_idx, value1 in df1['Hash'].items():\n",
    "        diff = abs(value0 - value1)\n",
    "        if 0 <= diff <= 6:\n",
    "            df0_indices.append(df0_idx)\n",
    "            df1_indices.append(df1_idx)"
   ]
  },
  {
   "cell_type": "code",
   "execution_count": null,
   "metadata": {
    "scrolled": false
   },
   "outputs": [],
   "source": [
    "similar_pair_indices = (np.asarray(df0_indices), np.asarray(df1_indices))\n",
    "plot_similar_pairs(df0, df1, similar_pair_indices)"
   ]
  }
 ],
 "metadata": {
  "kernelspec": {
   "display_name": "Python 3",
   "language": "python",
   "name": "python3"
  },
  "language_info": {
   "codemirror_mode": {
    "name": "ipython",
    "version": 3
   },
   "file_extension": ".py",
   "mimetype": "text/x-python",
   "name": "python",
   "nbconvert_exporter": "python",
   "pygments_lexer": "ipython3",
   "version": "3.7.4"
  }
 },
 "nbformat": 4,
 "nbformat_minor": 2
}

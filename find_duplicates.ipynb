{
 "cells": [
  {
   "cell_type": "code",
   "execution_count": null,
   "metadata": {},
   "outputs": [],
   "source": [
    "# Original sample code is provided by Shlomo Kashani\n",
    "# https://forum.isic-archive.com/t/a-list-of-duplicate-images-in-the-training-set/1141\n",
    "\n",
    "import pandas as pd \n",
    "import os\n",
    "import numpy as np\n",
    "import pandas as pd\n",
    "import glob\n",
    "import imagehash\n",
    "from PIL import Image\n",
    "from joblib import Parallel, delayed\n",
    "from pathlib import Path\n",
    "import matplotlib.pyplot as plt\n",
    "\n",
    "%matplotlib inline"
   ]
  },
  {
   "cell_type": "code",
   "execution_count": null,
   "metadata": {},
   "outputs": [],
   "source": [
    "data_folder = 'C:\\ISIC_2019'\n",
    "out_dist_image_folder = os.path.join(data_folder, 'ISIC_Archive_Out_Distribution')\n",
    "\n",
    "print(len(sorted(Path(out_dist_image_folder).glob('**/*.jpg'))), 'out-of-distribution images')\n",
    "df = pd.DataFrame([Path(x).stem for x in sorted(Path(out_dist_image_folder).glob('**/*.jpg'))],\n",
    "                           columns =['image'])\n",
    "df['path'] = df.apply(lambda row : os.path.join(out_dist_image_folder, row['image']+'.jpg'), axis=1)\n",
    "\n",
    "def getImageMetaData(file_path):\n",
    "    with Image.open(file_path) as img:\n",
    "        img_hash = imagehash.phash(img)\n",
    "        return img.size, img.mode, img_hash, file_path\n",
    "\n",
    "# Generate images metadata\n",
    "img_meta_list = Parallel(n_jobs=os.cpu_count(), verbose=1)(\n",
    "    (delayed(getImageMetaData)(row['path']) for _, row in df.iterrows())\n",
    ")\n",
    "img_meta_df = pd.DataFrame(np.array(img_meta_list), columns = ['Size', 'Mode', 'Hash', 'path'])\n",
    "df = df.merge(img_meta_df, on='path', how='left')\n",
    "df.head()"
   ]
  },
  {
   "cell_type": "markdown",
   "metadata": {},
   "source": [
    "## Find out similar image pairs"
   ]
  },
  {
   "cell_type": "code",
   "execution_count": null,
   "metadata": {
    "scrolled": false
   },
   "outputs": [],
   "source": [
    "# Pariwise hash difference\n",
    "pair_diff = abs(df['Hash'].to_numpy() - df['Hash'].to_numpy()[:, None])\n",
    "print('Unique difference values:', np.unique(pair_diff))\n",
    "pair_diff_triu = np.triu(pair_diff)\n",
    "\n",
    "# Get the index of elements with value 2\n",
    "print('Similar image pairs:')\n",
    "similar_pair = np.where((pair_diff_triu > 0) & (pair_diff_triu <= 8))\n",
    "# print(similar_pair)\n",
    "for i in range(0, len(similar_pair[0])):\n",
    "    idx0 = similar_pair[0][i]\n",
    "    idx1 = similar_pair[1][i]\n",
    "    # print(\"{} v.s. {}\".format(df.iloc[idx0]['image'], df.iloc[idx1]['image']))\n",
    "    \n",
    "    fig, (ax0, ax1) = plt.subplots(figsize=(14, 5), ncols=2)\n",
    "    ax0.set_title(df.iloc[idx0]['image'])\n",
    "    ax0.imshow(plt.imread(df.iloc[idx0]['path']))\n",
    "    \n",
    "    ax1.set_title(df.iloc[idx1]['image'])\n",
    "    ax1.imshow(plt.imread(df.iloc[idx1]['path']))"
   ]
  }
 ],
 "metadata": {
  "kernelspec": {
   "display_name": "Python 3",
   "language": "python",
   "name": "python3"
  },
  "language_info": {
   "codemirror_mode": {
    "name": "ipython",
    "version": 3
   },
   "file_extension": ".py",
   "mimetype": "text/x-python",
   "name": "python",
   "nbconvert_exporter": "python",
   "pygments_lexer": "ipython3",
   "version": "3.7.4"
  }
 },
 "nbformat": 4,
 "nbformat_minor": 2
}

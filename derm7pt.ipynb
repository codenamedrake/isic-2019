{
 "cells": [
  {
   "cell_type": "code",
   "execution_count": null,
   "metadata": {},
   "outputs": [],
   "source": [
    "import pandas as pd\n",
    "\n",
    "df = pd.read_csv('C:/ISIC_2019/Out-of-Distribtion/7-Point/meta/meta.csv')\n",
    "df.head()"
   ]
  },
  {
   "cell_type": "markdown",
   "metadata": {},
   "source": [
    "## Extract Melanosis Images"
   ]
  },
  {
   "cell_type": "code",
   "execution_count": null,
   "metadata": {},
   "outputs": [],
   "source": [
    "import os\n",
    "from shutil import copyfile\n",
    "\n",
    "df = df[df['diagnosis'] == 'melanosis']\n",
    "image_folder = 'C:/ISIC_2019/Out-of-Distribtion/7-Point/images'\n",
    "dest_folder = 'C:/ISIC_2019/7pt_melanosis'\n",
    "os.makedirs(dest_folder, exist_ok=True)\n",
    "\n",
    "for derm in df['derm']:\n",
    "    tokens = derm.split('/')\n",
    "    image_path_src = os.path.join(image_folder, tokens[0], tokens[1])\n",
    "    image_path_dest = os.path.join(dest_folder, tokens[1])\n",
    "    copyfile(image_path_src, image_path_dest)\n",
    "    print(\"\\\"{}\\\" copied\".format(image_path_src))"
   ]
  }
 ],
 "metadata": {
  "kernelspec": {
   "display_name": "Python 3",
   "language": "python",
   "name": "python3"
  },
  "language_info": {
   "codemirror_mode": {
    "name": "ipython",
    "version": 3
   },
   "file_extension": ".py",
   "mimetype": "text/x-python",
   "name": "python",
   "nbconvert_exporter": "python",
   "pygments_lexer": "ipython3",
   "version": "3.7.4"
  }
 },
 "nbformat": 4,
 "nbformat_minor": 2
}
